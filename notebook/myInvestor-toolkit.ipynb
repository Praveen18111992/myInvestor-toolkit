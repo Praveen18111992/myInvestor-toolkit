{
 "cells": [
  {
   "cell_type": "code",
   "execution_count": 3,
   "metadata": {},
   "outputs": [
    {
     "name": "stdout",
     "output_type": "stream",
     "text": [
      "4D.zip      5D.zip      6D.zip      Toto650.zip Toto655.zip Toto658.zip\r\n"
     ]
    }
   ],
   "source": [
    "!ls ../dataset/toto\n"
   ]
  },
  {
   "cell_type": "code",
   "execution_count": 36,
   "metadata": {},
   "outputs": [
    {
     "data": {
      "text/html": [
       "<div>\n",
       "<style>\n",
       "    .dataframe thead tr:only-child th {\n",
       "        text-align: right;\n",
       "    }\n",
       "\n",
       "    .dataframe thead th {\n",
       "        text-align: left;\n",
       "    }\n",
       "\n",
       "    .dataframe tbody tr th {\n",
       "        vertical-align: top;\n",
       "    }\n",
       "</style>\n",
       "<table border=\"1\" class=\"dataframe\">\n",
       "  <thead>\n",
       "    <tr style=\"text-align: right;\">\n",
       "      <th></th>\n",
       "      <th>DrawNo</th>\n",
       "      <th>DrawDate</th>\n",
       "      <th>PrizeType</th>\n",
       "      <th>No</th>\n",
       "    </tr>\n",
       "  </thead>\n",
       "  <tbody>\n",
       "    <tr>\n",
       "      <th>0</th>\n",
       "      <td>040792</td>\n",
       "      <td>19920506</td>\n",
       "      <td>1stPrizeNo</td>\n",
       "      <td>0019</td>\n",
       "    </tr>\n",
       "    <tr>\n",
       "      <th>4368</th>\n",
       "      <td>040792</td>\n",
       "      <td>19920506</td>\n",
       "      <td>2ndPrizeNo</td>\n",
       "      <td>1124</td>\n",
       "    </tr>\n",
       "    <tr>\n",
       "      <th>8736</th>\n",
       "      <td>040792</td>\n",
       "      <td>19920506</td>\n",
       "      <td>3rdPrizeNo</td>\n",
       "      <td>0592</td>\n",
       "    </tr>\n",
       "    <tr>\n",
       "      <th>13104</th>\n",
       "      <td>040792</td>\n",
       "      <td>19920506</td>\n",
       "      <td>SpecialNo1</td>\n",
       "      <td>0950</td>\n",
       "    </tr>\n",
       "    <tr>\n",
       "      <th>17472</th>\n",
       "      <td>040792</td>\n",
       "      <td>19920506</td>\n",
       "      <td>SpecialNo2</td>\n",
       "      <td>2479</td>\n",
       "    </tr>\n",
       "    <tr>\n",
       "      <th>21840</th>\n",
       "      <td>040792</td>\n",
       "      <td>19920506</td>\n",
       "      <td>SpecialNo3</td>\n",
       "      <td>7139</td>\n",
       "    </tr>\n",
       "    <tr>\n",
       "      <th>26208</th>\n",
       "      <td>040792</td>\n",
       "      <td>19920506</td>\n",
       "      <td>SpecialNo4</td>\n",
       "      <td>3114</td>\n",
       "    </tr>\n",
       "    <tr>\n",
       "      <th>30576</th>\n",
       "      <td>040792</td>\n",
       "      <td>19920506</td>\n",
       "      <td>SpecialNo5</td>\n",
       "      <td>4609</td>\n",
       "    </tr>\n",
       "    <tr>\n",
       "      <th>34944</th>\n",
       "      <td>040792</td>\n",
       "      <td>19920506</td>\n",
       "      <td>SpecialNo6</td>\n",
       "      <td>7836</td>\n",
       "    </tr>\n",
       "    <tr>\n",
       "      <th>39312</th>\n",
       "      <td>040792</td>\n",
       "      <td>19920506</td>\n",
       "      <td>SpecialNo7</td>\n",
       "      <td>8981</td>\n",
       "    </tr>\n",
       "  </tbody>\n",
       "</table>\n",
       "</div>"
      ],
      "text/plain": [
       "       DrawNo  DrawDate   PrizeType    No\n",
       "0      040792  19920506  1stPrizeNo  0019\n",
       "4368   040792  19920506  2ndPrizeNo  1124\n",
       "8736   040792  19920506  3rdPrizeNo  0592\n",
       "13104  040792  19920506  SpecialNo1  0950\n",
       "17472  040792  19920506  SpecialNo2  2479\n",
       "21840  040792  19920506  SpecialNo3  7139\n",
       "26208  040792  19920506  SpecialNo4  3114\n",
       "30576  040792  19920506  SpecialNo5  4609\n",
       "34944  040792  19920506  SpecialNo6  7836\n",
       "39312  040792  19920506  SpecialNo7  8981"
      ]
     },
     "execution_count": 36,
     "metadata": {},
     "output_type": "execute_result"
    }
   ],
   "source": [
    "import numpy as np\n",
    "import pandas as pd\n",
    "\n",
    "#pd.read_csv?\n",
    "\n",
    "df = pd.read_csv('../dataset/toto/4D.zip', dtype=str)\n",
    "df.head()\n",
    "#df['DrawDate_Formatted'] = pd.to_datetime(df['DrawDate'], format='%Y%m%d')\n",
    "#df = df.loc[df['DrawDate_Formatted'] >= '2018-01-01']\n",
    "#df.melt?\n",
    "df = df.melt(id_vars=[\"DrawNo\", \"DrawDate\"], var_name=\"PrizeType\", value_name=\"No\")\n",
    "df = df.sort_values([\"DrawNo\", \"DrawDate\"])\n",
    "\n",
    "df.head(10)\n",
    "#df.count"
   ]
  },
  {
   "cell_type": "code",
   "execution_count": 48,
   "metadata": {},
   "outputs": [
    {
     "name": "stdout",
     "output_type": "stream",
     "text": [
      "Ticker           106328\n",
      "Name              96676\n",
      "Exchange          95092\n",
      "Category Name     20728\n",
      "Country           95091\n",
      "dtype: int64\n",
      "Ticker           1654\n",
      "Name             1654\n",
      "Exchange         1654\n",
      "Category Name       0\n",
      "Country          1654\n",
      "dtype: int64\n"
     ]
    }
   ],
   "source": [
    "df_ticker = pd.read_csv('../dataset/ticker.csv', dtype=str)\n",
    "print(df_ticker.count())\n",
    "df_ticker = df_ticker.loc[df_ticker['Exchange'] == 'KLS']\n",
    "print(df_ticker.count())\n",
    "#df_ticker.head(400)\n"
   ]
  },
  {
   "cell_type": "code",
   "execution_count": null,
   "metadata": {
    "collapsed": true
   },
   "outputs": [],
   "source": []
  }
 ],
 "metadata": {
  "kernelspec": {
   "display_name": "Python 3",
   "language": "python",
   "name": "python3"
  },
  "language_info": {
   "codemirror_mode": {
    "name": "ipython",
    "version": 3
   },
   "file_extension": ".py",
   "mimetype": "text/x-python",
   "name": "python",
   "nbconvert_exporter": "python",
   "pygments_lexer": "ipython3",
   "version": "3.6.2"
  }
 },
 "nbformat": 4,
 "nbformat_minor": 2
}
